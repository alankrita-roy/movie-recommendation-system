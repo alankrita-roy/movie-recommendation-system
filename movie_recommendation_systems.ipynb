{
  "cells": [
    {
      "cell_type": "markdown",
      "metadata": {
        "id": "vjBC9OCaoNZ-"
      },
      "source": [
        "# <center> Movie Recommendation Systems </center>"
      ]
    },
    {
      "cell_type": "code",
      "execution_count": null,
      "metadata": {
        "id": "FIOQjKwtoNaE"
      },
      "outputs": [],
      "source": [
        "import numpy as np\n",
        "import pandas as pd\n",
        "import matplotlib.pyplot as plt\n",
        "%matplotlib inline\n",
        "import seaborn as sns\n",
        "from sklearn.feature_extraction.text import TfidfVectorizer\n",
        "from sklearn.metrics.pairwise import linear_kernel\n",
        "from ast import literal_eval\n",
        "from sklearn.feature_extraction.text import CountVectorizer\n",
        "from sklearn.metrics.pairwise import cosine_similarity\n",
        "from surprise import SVD, Reader, Dataset\n",
        "from surprise.model_selection import cross_validate"
      ]
    },
    {
      "cell_type": "markdown",
      "metadata": {
        "id": "IgrUVvLRoNaE"
      },
      "source": [
        "## Loading Datasets"
      ]
    },
    {
      "cell_type": "code",
      "execution_count": null,
      "metadata": {
        "id": "i4VIL2uPoNaE"
      },
      "outputs": [],
      "source": [
        "df_credits=pd.read_csv('../input/tmdb-movie-metadata/tmdb_5000_credits.csv')"
      ]
    },
    {
      "cell_type": "code",
      "execution_count": null,
      "metadata": {
        "id": "E_EmmdJBoNaF",
        "outputId": "0de0a2d4-df75-478e-b12d-64223a220148"
      },
      "outputs": [
        {
          "data": {
            "text/html": [
              "<div>\n",
              "<style scoped>\n",
              "    .dataframe tbody tr th:only-of-type {\n",
              "        vertical-align: middle;\n",
              "    }\n",
              "\n",
              "    .dataframe tbody tr th {\n",
              "        vertical-align: top;\n",
              "    }\n",
              "\n",
              "    .dataframe thead th {\n",
              "        text-align: right;\n",
              "    }\n",
              "</style>\n",
              "<table border=\"1\" class=\"dataframe\">\n",
              "  <thead>\n",
              "    <tr style=\"text-align: right;\">\n",
              "      <th></th>\n",
              "      <th>movie_id</th>\n",
              "      <th>title</th>\n",
              "      <th>cast</th>\n",
              "      <th>crew</th>\n",
              "    </tr>\n",
              "  </thead>\n",
              "  <tbody>\n",
              "    <tr>\n",
              "      <th>0</th>\n",
              "      <td>19995</td>\n",
              "      <td>Avatar</td>\n",
              "      <td>[{\"cast_id\": 242, \"character\": \"Jake Sully\", \"...</td>\n",
              "      <td>[{\"credit_id\": \"52fe48009251416c750aca23\", \"de...</td>\n",
              "    </tr>\n",
              "    <tr>\n",
              "      <th>1</th>\n",
              "      <td>285</td>\n",
              "      <td>Pirates of the Caribbean: At World's End</td>\n",
              "      <td>[{\"cast_id\": 4, \"character\": \"Captain Jack Spa...</td>\n",
              "      <td>[{\"credit_id\": \"52fe4232c3a36847f800b579\", \"de...</td>\n",
              "    </tr>\n",
              "  </tbody>\n",
              "</table>\n",
              "</div>"
            ],
            "text/plain": [
              "   movie_id                        ...                                                                       crew\n",
              "0     19995                        ...                          [{\"credit_id\": \"52fe48009251416c750aca23\", \"de...\n",
              "1       285                        ...                          [{\"credit_id\": \"52fe4232c3a36847f800b579\", \"de...\n",
              "\n",
              "[2 rows x 4 columns]"
            ]
          },
          "execution_count": 3,
          "metadata": {},
          "output_type": "execute_result"
        }
      ],
      "source": [
        "df_credits.head(2)"
      ]
    },
    {
      "cell_type": "code",
      "execution_count": null,
      "metadata": {
        "id": "an3UTcuOoNaF"
      },
      "outputs": [],
      "source": [
        "df_movies=pd.read_csv('tmdb_5000_movies.csv')"
      ]
    },
    {
      "cell_type": "code",
      "execution_count": null,
      "metadata": {
        "id": "0edSRIyZoNaG",
        "outputId": "9a308987-fbce-40ce-8856-a9e44ec2c8f3"
      },
      "outputs": [
        {
          "data": {
            "text/html": [
              "<div>\n",
              "<style scoped>\n",
              "    .dataframe tbody tr th:only-of-type {\n",
              "        vertical-align: middle;\n",
              "    }\n",
              "\n",
              "    .dataframe tbody tr th {\n",
              "        vertical-align: top;\n",
              "    }\n",
              "\n",
              "    .dataframe thead th {\n",
              "        text-align: right;\n",
              "    }\n",
              "</style>\n",
              "<table border=\"1\" class=\"dataframe\">\n",
              "  <thead>\n",
              "    <tr style=\"text-align: right;\">\n",
              "      <th></th>\n",
              "      <th>budget</th>\n",
              "      <th>genres</th>\n",
              "      <th>homepage</th>\n",
              "      <th>id</th>\n",
              "      <th>keywords</th>\n",
              "      <th>original_language</th>\n",
              "      <th>original_title</th>\n",
              "      <th>overview</th>\n",
              "      <th>popularity</th>\n",
              "      <th>production_companies</th>\n",
              "      <th>production_countries</th>\n",
              "      <th>release_date</th>\n",
              "      <th>revenue</th>\n",
              "      <th>runtime</th>\n",
              "      <th>spoken_languages</th>\n",
              "      <th>status</th>\n",
              "      <th>tagline</th>\n",
              "      <th>title</th>\n",
              "      <th>vote_average</th>\n",
              "      <th>vote_count</th>\n",
              "    </tr>\n",
              "  </thead>\n",
              "  <tbody>\n",
              "    <tr>\n",
              "      <th>0</th>\n",
              "      <td>237000000</td>\n",
              "      <td>[{\"id\": 28, \"name\": \"Action\"}, {\"id\": 12, \"nam...</td>\n",
              "      <td>http://www.avatarmovie.com/</td>\n",
              "      <td>19995</td>\n",
              "      <td>[{\"id\": 1463, \"name\": \"culture clash\"}, {\"id\":...</td>\n",
              "      <td>en</td>\n",
              "      <td>Avatar</td>\n",
              "      <td>In the 22nd century, a paraplegic Marine is di...</td>\n",
              "      <td>150.437577</td>\n",
              "      <td>[{\"name\": \"Ingenious Film Partners\", \"id\": 289...</td>\n",
              "      <td>[{\"iso_3166_1\": \"US\", \"name\": \"United States o...</td>\n",
              "      <td>2009-12-10</td>\n",
              "      <td>2787965087</td>\n",
              "      <td>162.0</td>\n",
              "      <td>[{\"iso_639_1\": \"en\", \"name\": \"English\"}, {\"iso...</td>\n",
              "      <td>Released</td>\n",
              "      <td>Enter the World of Pandora.</td>\n",
              "      <td>Avatar</td>\n",
              "      <td>7.2</td>\n",
              "      <td>11800</td>\n",
              "    </tr>\n",
              "    <tr>\n",
              "      <th>1</th>\n",
              "      <td>300000000</td>\n",
              "      <td>[{\"id\": 12, \"name\": \"Adventure\"}, {\"id\": 14, \"...</td>\n",
              "      <td>http://disney.go.com/disneypictures/pirates/</td>\n",
              "      <td>285</td>\n",
              "      <td>[{\"id\": 270, \"name\": \"ocean\"}, {\"id\": 726, \"na...</td>\n",
              "      <td>en</td>\n",
              "      <td>Pirates of the Caribbean: At World's End</td>\n",
              "      <td>Captain Barbossa, long believed to be dead, ha...</td>\n",
              "      <td>139.082615</td>\n",
              "      <td>[{\"name\": \"Walt Disney Pictures\", \"id\": 2}, {\"...</td>\n",
              "      <td>[{\"iso_3166_1\": \"US\", \"name\": \"United States o...</td>\n",
              "      <td>2007-05-19</td>\n",
              "      <td>961000000</td>\n",
              "      <td>169.0</td>\n",
              "      <td>[{\"iso_639_1\": \"en\", \"name\": \"English\"}]</td>\n",
              "      <td>Released</td>\n",
              "      <td>At the end of the world, the adventure begins.</td>\n",
              "      <td>Pirates of the Caribbean: At World's End</td>\n",
              "      <td>6.9</td>\n",
              "      <td>4500</td>\n",
              "    </tr>\n",
              "  </tbody>\n",
              "</table>\n",
              "</div>"
            ],
            "text/plain": [
              "      budget    ...     vote_count\n",
              "0  237000000    ...          11800\n",
              "1  300000000    ...           4500\n",
              "\n",
              "[2 rows x 20 columns]"
            ]
          },
          "execution_count": 5,
          "metadata": {},
          "output_type": "execute_result"
        }
      ],
      "source": [
        "df_movies.head(2)"
      ]
    },
    {
      "cell_type": "code",
      "execution_count": null,
      "metadata": {
        "id": "SS75OBFAoNaG"
      },
      "outputs": [],
      "source": [
        "df_credits.columns=['id', 'title', 'cast', 'crew']"
      ]
    },
    {
      "cell_type": "code",
      "execution_count": null,
      "metadata": {
        "id": "Zd6QeRo1oNaG"
      },
      "outputs": [],
      "source": [
        "df_movies.drop(['title'], axis=1, inplace=True)"
      ]
    },
    {
      "cell_type": "code",
      "execution_count": null,
      "metadata": {
        "id": "wn_EMKJkoNaG"
      },
      "outputs": [],
      "source": [
        "df_movielens=pd.merge(df_credits,df_movies,on='id')"
      ]
    },
    {
      "cell_type": "code",
      "execution_count": null,
      "metadata": {
        "id": "IceY8wKEoNaH",
        "outputId": "2d2b798e-eddf-4de3-a39a-79dbbaa9e1a0"
      },
      "outputs": [
        {
          "data": {
            "text/html": [
              "<div>\n",
              "<style scoped>\n",
              "    .dataframe tbody tr th:only-of-type {\n",
              "        vertical-align: middle;\n",
              "    }\n",
              "\n",
              "    .dataframe tbody tr th {\n",
              "        vertical-align: top;\n",
              "    }\n",
              "\n",
              "    .dataframe thead th {\n",
              "        text-align: right;\n",
              "    }\n",
              "</style>\n",
              "<table border=\"1\" class=\"dataframe\">\n",
              "  <thead>\n",
              "    <tr style=\"text-align: right;\">\n",
              "      <th></th>\n",
              "      <th>id</th>\n",
              "      <th>title</th>\n",
              "      <th>cast</th>\n",
              "      <th>crew</th>\n",
              "      <th>budget</th>\n",
              "      <th>genres</th>\n",
              "      <th>homepage</th>\n",
              "      <th>keywords</th>\n",
              "      <th>original_language</th>\n",
              "      <th>original_title</th>\n",
              "      <th>overview</th>\n",
              "      <th>popularity</th>\n",
              "      <th>production_companies</th>\n",
              "      <th>production_countries</th>\n",
              "      <th>release_date</th>\n",
              "      <th>revenue</th>\n",
              "      <th>runtime</th>\n",
              "      <th>spoken_languages</th>\n",
              "      <th>status</th>\n",
              "      <th>tagline</th>\n",
              "      <th>vote_average</th>\n",
              "      <th>vote_count</th>\n",
              "    </tr>\n",
              "  </thead>\n",
              "  <tbody>\n",
              "    <tr>\n",
              "      <th>0</th>\n",
              "      <td>19995</td>\n",
              "      <td>Avatar</td>\n",
              "      <td>[{\"cast_id\": 242, \"character\": \"Jake Sully\", \"...</td>\n",
              "      <td>[{\"credit_id\": \"52fe48009251416c750aca23\", \"de...</td>\n",
              "      <td>237000000</td>\n",
              "      <td>[{\"id\": 28, \"name\": \"Action\"}, {\"id\": 12, \"nam...</td>\n",
              "      <td>http://www.avatarmovie.com/</td>\n",
              "      <td>[{\"id\": 1463, \"name\": \"culture clash\"}, {\"id\":...</td>\n",
              "      <td>en</td>\n",
              "      <td>Avatar</td>\n",
              "      <td>In the 22nd century, a paraplegic Marine is di...</td>\n",
              "      <td>150.437577</td>\n",
              "      <td>[{\"name\": \"Ingenious Film Partners\", \"id\": 289...</td>\n",
              "      <td>[{\"iso_3166_1\": \"US\", \"name\": \"United States o...</td>\n",
              "      <td>2009-12-10</td>\n",
              "      <td>2787965087</td>\n",
              "      <td>162.0</td>\n",
              "      <td>[{\"iso_639_1\": \"en\", \"name\": \"English\"}, {\"iso...</td>\n",
              "      <td>Released</td>\n",
              "      <td>Enter the World of Pandora.</td>\n",
              "      <td>7.2</td>\n",
              "      <td>11800</td>\n",
              "    </tr>\n",
              "    <tr>\n",
              "      <th>1</th>\n",
              "      <td>285</td>\n",
              "      <td>Pirates of the Caribbean: At World's End</td>\n",
              "      <td>[{\"cast_id\": 4, \"character\": \"Captain Jack Spa...</td>\n",
              "      <td>[{\"credit_id\": \"52fe4232c3a36847f800b579\", \"de...</td>\n",
              "      <td>300000000</td>\n",
              "      <td>[{\"id\": 12, \"name\": \"Adventure\"}, {\"id\": 14, \"...</td>\n",
              "      <td>http://disney.go.com/disneypictures/pirates/</td>\n",
              "      <td>[{\"id\": 270, \"name\": \"ocean\"}, {\"id\": 726, \"na...</td>\n",
              "      <td>en</td>\n",
              "      <td>Pirates of the Caribbean: At World's End</td>\n",
              "      <td>Captain Barbossa, long believed to be dead, ha...</td>\n",
              "      <td>139.082615</td>\n",
              "      <td>[{\"name\": \"Walt Disney Pictures\", \"id\": 2}, {\"...</td>\n",
              "      <td>[{\"iso_3166_1\": \"US\", \"name\": \"United States o...</td>\n",
              "      <td>2007-05-19</td>\n",
              "      <td>961000000</td>\n",
              "      <td>169.0</td>\n",
              "      <td>[{\"iso_639_1\": \"en\", \"name\": \"English\"}]</td>\n",
              "      <td>Released</td>\n",
              "      <td>At the end of the world, the adventure begins.</td>\n",
              "      <td>6.9</td>\n",
              "      <td>4500</td>\n",
              "    </tr>\n",
              "  </tbody>\n",
              "</table>\n",
              "</div>"
            ],
            "text/plain": [
              "      id    ...     vote_count\n",
              "0  19995    ...          11800\n",
              "1    285    ...           4500\n",
              "\n",
              "[2 rows x 22 columns]"
            ]
          },
          "execution_count": 9,
          "metadata": {},
          "output_type": "execute_result"
        }
      ],
      "source": [
        "df_movielens.head(2)"
      ]
    },
    {
      "cell_type": "code",
      "execution_count": null,
      "metadata": {
        "id": "te40Gvb_oNaH",
        "outputId": "1098a617-de86-4e25-a937-777b02f9ea85"
      },
      "outputs": [
        {
          "data": {
            "text/plain": [
              "(4803, 22)"
            ]
          },
          "execution_count": 10,
          "metadata": {},
          "output_type": "execute_result"
        }
      ],
      "source": [
        "df_movielens.shape"
      ]
    },
    {
      "cell_type": "markdown",
      "metadata": {
        "id": "mtP0fuW2oNaH"
      },
      "source": [
        "## Demographic Recommender"
      ]
    },
    {
      "cell_type": "code",
      "execution_count": null,
      "metadata": {
        "id": "k14yCcNToNaH",
        "outputId": "1ea3f199-53fa-4ceb-af6a-95f0b237b842"
      },
      "outputs": [
        {
          "data": {
            "text/plain": [
              "6.092171559442011"
            ]
          },
          "execution_count": 11,
          "metadata": {},
          "output_type": "execute_result"
        }
      ],
      "source": [
        "df_movielens['vote_average'].mean()"
      ]
    },
    {
      "cell_type": "code",
      "execution_count": null,
      "metadata": {
        "id": "ac7y_0U7oNaI"
      },
      "outputs": [],
      "source": [
        "df_filtered=df_movielens[df_movielens['vote_count']>df_movielens['vote_count'].quantile(q=0.9)]"
      ]
    },
    {
      "cell_type": "code",
      "execution_count": null,
      "metadata": {
        "id": "oc0tUe7ioNaI",
        "outputId": "651bc1d8-115c-427e-9f6e-61eb13f8b58e"
      },
      "outputs": [
        {
          "data": {
            "text/plain": [
              "(481, 22)"
            ]
          },
          "execution_count": 14,
          "metadata": {},
          "output_type": "execute_result"
        }
      ],
      "source": [
        "df_filtered.shape"
      ]
    },
    {
      "cell_type": "code",
      "execution_count": null,
      "metadata": {
        "id": "fCl5CNr6oNaJ"
      },
      "outputs": [],
      "source": [
        "def movie_score(x):\n",
        "    v=x['vote_count']\n",
        "    m=df_movielens['vote_count'].quantile(q=0.9)\n",
        "    R=x['vote_average']\n",
        "    C=df_movielens['vote_average'].mean()\n",
        "    return ((R*v)/(v+m))+((C*m)/(v+m))"
      ]
    },
    {
      "cell_type": "code",
      "execution_count": null,
      "metadata": {
        "id": "2pf3xt2qoNaJ",
        "outputId": "89c7a4a0-22bd-4f3f-a666-1235b14db414"
      },
      "outputs": [
        {
          "name": "stderr",
          "output_type": "stream",
          "text": [
            "/opt/conda/lib/python3.6/site-packages/ipykernel_launcher.py:1: SettingWithCopyWarning: \n",
            "A value is trying to be set on a copy of a slice from a DataFrame.\n",
            "Try using .loc[row_indexer,col_indexer] = value instead\n",
            "\n",
            "See the caveats in the documentation: http://pandas.pydata.org/pandas-docs/stable/indexing.html#indexing-view-versus-copy\n",
            "  \"\"\"Entry point for launching an IPython kernel.\n"
          ]
        }
      ],
      "source": [
        "df_filtered['score']=df_filtered.apply(movie_score, axis=1)"
      ]
    },
    {
      "cell_type": "code",
      "execution_count": null,
      "metadata": {
        "id": "M4cP5qXioNaJ"
      },
      "outputs": [],
      "source": [
        "df_highscore=df_filtered.sort_values(by='score', ascending=False).head(10)"
      ]
    },
    {
      "cell_type": "code",
      "execution_count": null,
      "metadata": {
        "id": "n_UBostZoNaJ",
        "outputId": "b523195b-380c-498a-daa5-9ab1508c1143"
      },
      "outputs": [
        {
          "data": {
            "text/html": [
              "<div>\n",
              "<style scoped>\n",
              "    .dataframe tbody tr th:only-of-type {\n",
              "        vertical-align: middle;\n",
              "    }\n",
              "\n",
              "    .dataframe tbody tr th {\n",
              "        vertical-align: top;\n",
              "    }\n",
              "\n",
              "    .dataframe thead th {\n",
              "        text-align: right;\n",
              "    }\n",
              "</style>\n",
              "<table border=\"1\" class=\"dataframe\">\n",
              "  <thead>\n",
              "    <tr style=\"text-align: right;\">\n",
              "      <th></th>\n",
              "      <th>title</th>\n",
              "      <th>vote_count</th>\n",
              "      <th>vote_average</th>\n",
              "      <th>popularity</th>\n",
              "      <th>score</th>\n",
              "    </tr>\n",
              "  </thead>\n",
              "  <tbody>\n",
              "    <tr>\n",
              "      <th>1881</th>\n",
              "      <td>The Shawshank Redemption</td>\n",
              "      <td>8205</td>\n",
              "      <td>8.5</td>\n",
              "      <td>136.747729</td>\n",
              "      <td>8.059258</td>\n",
              "    </tr>\n",
              "    <tr>\n",
              "      <th>662</th>\n",
              "      <td>Fight Club</td>\n",
              "      <td>9413</td>\n",
              "      <td>8.3</td>\n",
              "      <td>146.757391</td>\n",
              "      <td>7.939256</td>\n",
              "    </tr>\n",
              "    <tr>\n",
              "      <th>65</th>\n",
              "      <td>The Dark Knight</td>\n",
              "      <td>12002</td>\n",
              "      <td>8.2</td>\n",
              "      <td>187.322927</td>\n",
              "      <td>7.920020</td>\n",
              "    </tr>\n",
              "    <tr>\n",
              "      <th>3232</th>\n",
              "      <td>Pulp Fiction</td>\n",
              "      <td>8428</td>\n",
              "      <td>8.3</td>\n",
              "      <td>121.463076</td>\n",
              "      <td>7.904645</td>\n",
              "    </tr>\n",
              "    <tr>\n",
              "      <th>96</th>\n",
              "      <td>Inception</td>\n",
              "      <td>13752</td>\n",
              "      <td>8.1</td>\n",
              "      <td>167.583710</td>\n",
              "      <td>7.863239</td>\n",
              "    </tr>\n",
              "    <tr>\n",
              "      <th>3337</th>\n",
              "      <td>The Godfather</td>\n",
              "      <td>5893</td>\n",
              "      <td>8.4</td>\n",
              "      <td>143.659698</td>\n",
              "      <td>7.851236</td>\n",
              "    </tr>\n",
              "    <tr>\n",
              "      <th>95</th>\n",
              "      <td>Interstellar</td>\n",
              "      <td>10867</td>\n",
              "      <td>8.1</td>\n",
              "      <td>724.247784</td>\n",
              "      <td>7.809479</td>\n",
              "    </tr>\n",
              "    <tr>\n",
              "      <th>809</th>\n",
              "      <td>Forrest Gump</td>\n",
              "      <td>7927</td>\n",
              "      <td>8.2</td>\n",
              "      <td>138.133331</td>\n",
              "      <td>7.803188</td>\n",
              "    </tr>\n",
              "    <tr>\n",
              "      <th>329</th>\n",
              "      <td>The Lord of the Rings: The Return of the King</td>\n",
              "      <td>8064</td>\n",
              "      <td>8.1</td>\n",
              "      <td>123.630332</td>\n",
              "      <td>7.727243</td>\n",
              "    </tr>\n",
              "    <tr>\n",
              "      <th>1990</th>\n",
              "      <td>The Empire Strikes Back</td>\n",
              "      <td>5879</td>\n",
              "      <td>8.2</td>\n",
              "      <td>78.517830</td>\n",
              "      <td>7.697884</td>\n",
              "    </tr>\n",
              "  </tbody>\n",
              "</table>\n",
              "</div>"
            ],
            "text/plain": [
              "                                              title    ...        score\n",
              "1881                       The Shawshank Redemption    ...     8.059258\n",
              "662                                      Fight Club    ...     7.939256\n",
              "65                                  The Dark Knight    ...     7.920020\n",
              "3232                                   Pulp Fiction    ...     7.904645\n",
              "96                                        Inception    ...     7.863239\n",
              "3337                                  The Godfather    ...     7.851236\n",
              "95                                     Interstellar    ...     7.809479\n",
              "809                                    Forrest Gump    ...     7.803188\n",
              "329   The Lord of the Rings: The Return of the King    ...     7.727243\n",
              "1990                        The Empire Strikes Back    ...     7.697884\n",
              "\n",
              "[10 rows x 5 columns]"
            ]
          },
          "execution_count": 18,
          "metadata": {},
          "output_type": "execute_result"
        }
      ],
      "source": [
        "df_highscore[['title', 'vote_count', 'vote_average', 'popularity', 'score']]"
      ]
    },
    {
      "cell_type": "code",
      "execution_count": null,
      "metadata": {
        "id": "SR4NQGpdoNaJ"
      },
      "outputs": [],
      "source": [
        "df_popular= df_movielens.sort_values('popularity', ascending=False).head(10)"
      ]
    },
    {
      "cell_type": "code",
      "execution_count": null,
      "metadata": {
        "id": "feQcjQmeoNaK",
        "outputId": "2387c7a7-7edd-4e21-d1d6-7ab3e00a61b6"
      },
      "outputs": [
        {
          "data": {
            "text/html": [
              "<div>\n",
              "<style scoped>\n",
              "    .dataframe tbody tr th:only-of-type {\n",
              "        vertical-align: middle;\n",
              "    }\n",
              "\n",
              "    .dataframe tbody tr th {\n",
              "        vertical-align: top;\n",
              "    }\n",
              "\n",
              "    .dataframe thead th {\n",
              "        text-align: right;\n",
              "    }\n",
              "</style>\n",
              "<table border=\"1\" class=\"dataframe\">\n",
              "  <thead>\n",
              "    <tr style=\"text-align: right;\">\n",
              "      <th></th>\n",
              "      <th>title</th>\n",
              "      <th>vote_count</th>\n",
              "      <th>vote_average</th>\n",
              "      <th>popularity</th>\n",
              "    </tr>\n",
              "  </thead>\n",
              "  <tbody>\n",
              "    <tr>\n",
              "      <th>546</th>\n",
              "      <td>Minions</td>\n",
              "      <td>4571</td>\n",
              "      <td>6.4</td>\n",
              "      <td>875.581305</td>\n",
              "    </tr>\n",
              "    <tr>\n",
              "      <th>95</th>\n",
              "      <td>Interstellar</td>\n",
              "      <td>10867</td>\n",
              "      <td>8.1</td>\n",
              "      <td>724.247784</td>\n",
              "    </tr>\n",
              "    <tr>\n",
              "      <th>788</th>\n",
              "      <td>Deadpool</td>\n",
              "      <td>10995</td>\n",
              "      <td>7.4</td>\n",
              "      <td>514.569956</td>\n",
              "    </tr>\n",
              "    <tr>\n",
              "      <th>94</th>\n",
              "      <td>Guardians of the Galaxy</td>\n",
              "      <td>9742</td>\n",
              "      <td>7.9</td>\n",
              "      <td>481.098624</td>\n",
              "    </tr>\n",
              "    <tr>\n",
              "      <th>127</th>\n",
              "      <td>Mad Max: Fury Road</td>\n",
              "      <td>9427</td>\n",
              "      <td>7.2</td>\n",
              "      <td>434.278564</td>\n",
              "    </tr>\n",
              "    <tr>\n",
              "      <th>28</th>\n",
              "      <td>Jurassic World</td>\n",
              "      <td>8662</td>\n",
              "      <td>6.5</td>\n",
              "      <td>418.708552</td>\n",
              "    </tr>\n",
              "    <tr>\n",
              "      <th>199</th>\n",
              "      <td>Pirates of the Caribbean: The Curse of the Bla...</td>\n",
              "      <td>6985</td>\n",
              "      <td>7.5</td>\n",
              "      <td>271.972889</td>\n",
              "    </tr>\n",
              "    <tr>\n",
              "      <th>82</th>\n",
              "      <td>Dawn of the Planet of the Apes</td>\n",
              "      <td>4410</td>\n",
              "      <td>7.3</td>\n",
              "      <td>243.791743</td>\n",
              "    </tr>\n",
              "    <tr>\n",
              "      <th>200</th>\n",
              "      <td>The Hunger Games: Mockingjay - Part 1</td>\n",
              "      <td>5584</td>\n",
              "      <td>6.6</td>\n",
              "      <td>206.227151</td>\n",
              "    </tr>\n",
              "    <tr>\n",
              "      <th>88</th>\n",
              "      <td>Big Hero 6</td>\n",
              "      <td>6135</td>\n",
              "      <td>7.8</td>\n",
              "      <td>203.734590</td>\n",
              "    </tr>\n",
              "  </tbody>\n",
              "</table>\n",
              "</div>"
            ],
            "text/plain": [
              "                                                 title     ...      popularity\n",
              "546                                            Minions     ...      875.581305\n",
              "95                                        Interstellar     ...      724.247784\n",
              "788                                           Deadpool     ...      514.569956\n",
              "94                             Guardians of the Galaxy     ...      481.098624\n",
              "127                                 Mad Max: Fury Road     ...      434.278564\n",
              "28                                      Jurassic World     ...      418.708552\n",
              "199  Pirates of the Caribbean: The Curse of the Bla...     ...      271.972889\n",
              "82                      Dawn of the Planet of the Apes     ...      243.791743\n",
              "200              The Hunger Games: Mockingjay - Part 1     ...      206.227151\n",
              "88                                          Big Hero 6     ...      203.734590\n",
              "\n",
              "[10 rows x 4 columns]"
            ]
          },
          "execution_count": 20,
          "metadata": {},
          "output_type": "execute_result"
        }
      ],
      "source": [
        "df_popular[['title', 'vote_count', 'vote_average', 'popularity']]"
      ]
    },
    {
      "cell_type": "code",
      "execution_count": null,
      "metadata": {
        "id": "Y1clEADRoNaK",
        "outputId": "a081a6a4-fb92-432c-927d-e9ba1d66e01a"
      },
      "outputs": [
        {
          "data": {
            "image/png": "[encoded data removed]",
            "text/plain": [
              "<Figure size 576x432 with 1 Axes>"
            ]
          },
          "metadata": {},
          "output_type": "display_data"
        }
      ],
      "source": [
        "plt.figure(figsize=(8,6))\n",
        "sns.barplot(y='title',x='popularity', data=df_popular, palette='viridis')\n",
        "plt.xlabel(\"Popularity\", fontsize=12)\n",
        "plt.ylabel(\"Title\", fontsize=12)\n",
        "plt.title(\"Popular Movies\", fontsize=15)\n",
        "plt.show()"
      ]
    },
    {
      "cell_type": "markdown",
      "metadata": {
        "id": "HBroBfKsoNaK"
      },
      "source": [
        "## Content-Based Recommender"
      ]
    },
    {
      "cell_type": "markdown",
      "metadata": {
        "id": "tem7KgcPoNaS"
      },
      "source": [
        "### Movie Overview Based Recommender"
      ]
    },
    {
      "cell_type": "markdown",
      "metadata": {
        "id": "A6IyhQhyoNaS"
      },
      "source": [
        "First we compute pairwise similarity scores for all movies based on their 'overview' column. Then recommend movies based on that similarity score."
      ]
    },
    {
      "cell_type": "code",
      "execution_count": null,
      "metadata": {
        "id": "pwhcFYERoNaS",
        "outputId": "e3a16340-3532-4e94-f59f-6f39226235d9"
      },
      "outputs": [
        {
          "data": {
            "text/plain": [
              "0    In the 22nd century, a paraplegic Marine is di...\n",
              "1    Captain Barbossa, long believed to be dead, ha...\n",
              "2    A cryptic message from Bond’s past sends him o...\n",
              "3    Following the death of District Attorney Harve...\n",
              "4    John Carter is a war-weary, former military ca...\n",
              "Name: overview, dtype: object"
            ]
          },
          "execution_count": 22,
          "metadata": {},
          "output_type": "execute_result"
        }
      ],
      "source": [
        "df_movielens['overview'].head()"
      ]
    },
    {
      "cell_type": "markdown",
      "metadata": {
        "id": "hwFbolEyoNaS"
      },
      "source": [
        "We replace NaN in 'overview' column with an empty string."
      ]
    },
    {
      "cell_type": "code",
      "execution_count": null,
      "metadata": {
        "scrolled": true,
        "id": "7Ix7t6XUoNaT",
        "outputId": "fab6dc0c-23f6-4689-bb49-5c9a34b59c43"
      },
      "outputs": [
        {
          "data": {
            "text/plain": [
              "3"
            ]
          },
          "execution_count": 23,
          "metadata": {},
          "output_type": "execute_result"
        }
      ],
      "source": [
        "df_movielens['overview'].isnull().sum()"
      ]
    },
    {
      "cell_type": "code",
      "execution_count": null,
      "metadata": {
        "id": "1-ABQ4FPoNaT"
      },
      "outputs": [],
      "source": [
        "df_movielens['overview'].fillna(' ', inplace=True)"
      ]
    },
    {
      "cell_type": "markdown",
      "metadata": {
        "id": "VhuXJ75koNaT"
      },
      "source": [
        "#### Constructing TF-IDF Matrix"
      ]
    },
    {
      "cell_type": "code",
      "execution_count": null,
      "metadata": {
        "id": "PtXWIjqToNaT",
        "outputId": "3943ab5a-b3b1-4616-ed4e-17a144a6d8bf"
      },
      "outputs": [
        {
          "name": "stdout",
          "output_type": "stream",
          "text": [
            "[[0. 0. 0. ... 0. 0. 0.]\n",
            " [0. 0. 0. ... 0. 0. 0.]\n",
            " [0. 0. 0. ... 0. 0. 0.]\n",
            " ...\n",
            " [0. 0. 0. ... 0. 0. 0.]\n",
            " [0. 0. 0. ... 0. 0. 0.]\n",
            " [0. 0. 0. ... 0. 0. 0.]]\n"
          ]
        },
        {
          "data": {
            "text/plain": [
              "(4803, 20978)"
            ]
          },
          "execution_count": 25,
          "metadata": {},
          "output_type": "execute_result"
        }
      ],
      "source": [
        "tfidfv=TfidfVectorizer(analyzer='word', stop_words='english')\n",
        "tfidfv_matrix=tfidfv.fit_transform(df_movielens['overview'])\n",
        "print(tfidfv_matrix.todense())\n",
        "tfidfv_matrix.todense().shape"
      ]
    },
    {
      "cell_type": "markdown",
      "metadata": {
        "id": "9n5E91ImoNaT"
      },
      "source": [
        "#### Computing Similarity Score"
      ]
    },
    {
      "cell_type": "code",
      "execution_count": null,
      "metadata": {
        "id": "jwCRk8_8oNaU"
      },
      "outputs": [],
      "source": [
        "cosine_sim1 = linear_kernel(tfidfv_matrix, tfidfv_matrix)"
      ]
    },
    {
      "cell_type": "code",
      "execution_count": null,
      "metadata": {
        "id": "_wIzOzPGoNaU",
        "outputId": "efc4a746-8511-404b-e22c-67f364fb8e02"
      },
      "outputs": [
        {
          "data": {
            "text/plain": [
              "(4803, 4803)"
            ]
          },
          "execution_count": 27,
          "metadata": {},
          "output_type": "execute_result"
        }
      ],
      "source": [
        "cosine_sim1.shape"
      ]
    },
    {
      "cell_type": "markdown",
      "metadata": {
        "id": "WZADd8RUoNaV"
      },
      "source": [
        "#### Defining Recommendation Function"
      ]
    },
    {
      "cell_type": "code",
      "execution_count": null,
      "metadata": {
        "id": "dgQ4zVc_oNaV"
      },
      "outputs": [],
      "source": [
        "indices=pd.Series(data=list(df_movielens.index), index= df_movielens['title'] )"
      ]
    },
    {
      "cell_type": "code",
      "execution_count": null,
      "metadata": {
        "id": "B-hB9BUCoNaW",
        "outputId": "dc722ac1-f7e5-4974-af04-7e83f868cfdb"
      },
      "outputs": [
        {
          "data": {
            "text/plain": [
              "title\n",
              "Avatar                                      0\n",
              "Pirates of the Caribbean: At World's End    1\n",
              "Spectre                                     2\n",
              "The Dark Knight Rises                       3\n",
              "John Carter                                 4\n",
              "dtype: int64"
            ]
          },
          "execution_count": 29,
          "metadata": {},
          "output_type": "execute_result"
        }
      ],
      "source": [
        "indices.head()"
      ]
    },
    {
      "cell_type": "code",
      "execution_count": null,
      "metadata": {
        "id": "Asl5DKc_oNaW"
      },
      "outputs": [],
      "source": [
        "# Function that takes in movie title as input and outputs most similar movies\n",
        "def content_recommendations(title, cosine_sim):\n",
        "\n",
        "    # Get the index of the movie that matches the title\n",
        "    idx = indices[title]\n",
        "\n",
        "    # Get the pairwsie similarity scores of all movies with that movie\n",
        "    sim_scores = list(enumerate(cosine_sim[idx]))\n",
        "\n",
        "    # Sort the movies based on the similarity scores\n",
        "    sim_scores.sort(key=lambda x: x[1], reverse=True)\n",
        "\n",
        "    # Get the scores of the 10 most similar movies\n",
        "    sim_scores=sim_scores[1:11]\n",
        "\n",
        "    # Get the movie indices\n",
        "    ind=[]\n",
        "    for (x,y) in sim_scores:\n",
        "        ind.append(x)\n",
        "\n",
        "    # Return the top 10 most similar movies\n",
        "    tit=[]\n",
        "    for x in ind:\n",
        "        tit.append(df_movielens.iloc[x]['title'])\n",
        "    return pd.Series(data=tit, index=ind)"
      ]
    },
    {
      "cell_type": "code",
      "execution_count": null,
      "metadata": {
        "id": "bn06OldboNaX",
        "outputId": "ded430e0-bcc2-4f4d-8016-3108bcee825e"
      },
      "outputs": [
        {
          "data": {
            "text/plain": [
              "65                              The Dark Knight\n",
              "299                              Batman Forever\n",
              "428                              Batman Returns\n",
              "1359                                     Batman\n",
              "3854    Batman: The Dark Knight Returns, Part 2\n",
              "119                               Batman Begins\n",
              "2507                                  Slow Burn\n",
              "9            Batman v Superman: Dawn of Justice\n",
              "1181                                        JFK\n",
              "210                              Batman & Robin\n",
              "dtype: object"
            ]
          },
          "execution_count": 31,
          "metadata": {},
          "output_type": "execute_result"
        }
      ],
      "source": [
        "content_recommendations('The Dark Knight Rises',cosine_sim1)"
      ]
    },
    {
      "cell_type": "code",
      "execution_count": null,
      "metadata": {
        "id": "tJFGmhyGoNaX",
        "outputId": "d8f6f112-dfe1-484d-9ba7-86405faa8df2"
      },
      "outputs": [
        {
          "data": {
            "text/plain": [
              "7               Avengers: Age of Ultron\n",
              "3144                            Plastic\n",
              "1715                            Timecop\n",
              "4124                 This Thing of Ours\n",
              "3311              Thank You for Smoking\n",
              "3033                      The Corruptor\n",
              "588     Wall Street: Money Never Sleeps\n",
              "2136         Team America: World Police\n",
              "1468                       The Fountain\n",
              "1286                        Snowpiercer\n",
              "dtype: object"
            ]
          },
          "execution_count": 32,
          "metadata": {},
          "output_type": "execute_result"
        }
      ],
      "source": [
        "content_recommendations('The Avengers',cosine_sim1)"
      ]
    },
    {
      "cell_type": "markdown",
      "metadata": {
        "id": "8kNGvJyQoNaX"
      },
      "source": [
        "### Movie Cast, Crew, Keywords, Genres Based Recommender"
      ]
    },
    {
      "cell_type": "markdown",
      "metadata": {
        "id": "z5GZWwwUoNaY"
      },
      "source": [
        "#### Preprocessing the Contents"
      ]
    },
    {
      "cell_type": "markdown",
      "metadata": {
        "id": "yRR09GBWoNaY"
      },
      "source": [
        "##### Applying literal_eval Function on Stringified Lists"
      ]
    },
    {
      "cell_type": "code",
      "execution_count": null,
      "metadata": {
        "id": "DqOvY-62oNaY",
        "outputId": "e826d92e-a92d-41a8-f3a7-fbb6204a082a"
      },
      "outputs": [
        {
          "data": {
            "text/plain": [
              "str"
            ]
          },
          "execution_count": 33,
          "metadata": {},
          "output_type": "execute_result"
        }
      ],
      "source": [
        "type(df_movielens['cast'].iloc[0])"
      ]
    },
    {
      "cell_type": "code",
      "execution_count": null,
      "metadata": {
        "id": "HuB-0SePoNaZ"
      },
      "outputs": [],
      "source": [
        "features = ['cast', 'crew', 'keywords', 'genres']\n",
        "for feature in features:\n",
        "    df_movielens[feature] = df_movielens[feature].apply(literal_eval)"
      ]
    },
    {
      "cell_type": "code",
      "execution_count": null,
      "metadata": {
        "id": "MDVgODhcoNaZ",
        "outputId": "dc2e1faf-4db7-4614-b308-ebd90fa184bd"
      },
      "outputs": [
        {
          "data": {
            "text/plain": [
              "list"
            ]
          },
          "execution_count": 35,
          "metadata": {},
          "output_type": "execute_result"
        }
      ],
      "source": [
        "type(df_movielens['cast'].iloc[0])"
      ]
    },
    {
      "cell_type": "markdown",
      "metadata": {
        "id": "fT3gL8V0oNaa"
      },
      "source": [
        "##### Defining Functions to Grab the Contents"
      ]
    },
    {
      "cell_type": "code",
      "execution_count": null,
      "metadata": {
        "id": "B5fVAEH9oNaa"
      },
      "outputs": [],
      "source": [
        "# Get the director's name from the crew feature. If director is not listed, return NaN\n",
        "def get_director(x):\n",
        "    for a in x:\n",
        "        if a['job']=='Director':\n",
        "            return a['name']\n",
        "    return 'NaN'"
      ]
    },
    {
      "cell_type": "code",
      "execution_count": null,
      "metadata": {
        "id": "mpBDHrmEoNaa"
      },
      "outputs": [],
      "source": [
        "# Get the list top 3 elements or entire list; whichever is more in cast, genres and keywords columns.\n",
        "def get_top3(x):\n",
        "    new=[]\n",
        "    for a in x[:3]:\n",
        "        new.append(a['name'])\n",
        "    return new\n",
        "#Return empty list in case of missing/malformed data\n",
        "    return []"
      ]
    },
    {
      "cell_type": "code",
      "execution_count": null,
      "metadata": {
        "id": "EbCzFpTtoNab"
      },
      "outputs": [],
      "source": [
        "df_movielens['director']=df_movielens['crew'].apply(lambda x: get_director(x))"
      ]
    },
    {
      "cell_type": "code",
      "execution_count": null,
      "metadata": {
        "id": "HHxJXoEIoNab"
      },
      "outputs": [],
      "source": [
        "df_movielens['actor']=df_movielens['cast'].apply(lambda x:get_top3(x))"
      ]
    },
    {
      "cell_type": "code",
      "execution_count": null,
      "metadata": {
        "id": "EOz0R6RcoNab"
      },
      "outputs": [],
      "source": [
        "df_movielens['genres']=df_movielens['genres'].apply(lambda x:get_top3(x))"
      ]
    },
    {
      "cell_type": "code",
      "execution_count": null,
      "metadata": {
        "id": "cYqTaBkfoNac"
      },
      "outputs": [],
      "source": [
        "df_movielens['keywords']=df_movielens['keywords'].apply(lambda x:get_top3(x))"
      ]
    },
    {
      "cell_type": "code",
      "execution_count": null,
      "metadata": {
        "id": "ed213afKoNac",
        "outputId": "892c1ad2-1e9a-4669-caf0-9285660cd1a8"
      },
      "outputs": [
        {
          "data": {
            "text/html": [
              "<div>\n",
              "<style scoped>\n",
              "    .dataframe tbody tr th:only-of-type {\n",
              "        vertical-align: middle;\n",
              "    }\n",
              "\n",
              "    .dataframe tbody tr th {\n",
              "        vertical-align: top;\n",
              "    }\n",
              "\n",
              "    .dataframe thead th {\n",
              "        text-align: right;\n",
              "    }\n",
              "</style>\n",
              "<table border=\"1\" class=\"dataframe\">\n",
              "  <thead>\n",
              "    <tr style=\"text-align: right;\">\n",
              "      <th></th>\n",
              "      <th>title</th>\n",
              "      <th>actor</th>\n",
              "      <th>director</th>\n",
              "      <th>keywords</th>\n",
              "      <th>genres</th>\n",
              "    </tr>\n",
              "  </thead>\n",
              "  <tbody>\n",
              "    <tr>\n",
              "      <th>0</th>\n",
              "      <td>Avatar</td>\n",
              "      <td>[Sam Worthington, Zoe Saldana, Sigourney Weaver]</td>\n",
              "      <td>James Cameron</td>\n",
              "      <td>[culture clash, future, space war]</td>\n",
              "      <td>[Action, Adventure, Fantasy]</td>\n",
              "    </tr>\n",
              "    <tr>\n",
              "      <th>1</th>\n",
              "      <td>Pirates of the Caribbean: At World's End</td>\n",
              "      <td>[Johnny Depp, Orlando Bloom, Keira Knightley]</td>\n",
              "      <td>Gore Verbinski</td>\n",
              "      <td>[ocean, drug abuse, exotic island]</td>\n",
              "      <td>[Adventure, Fantasy, Action]</td>\n",
              "    </tr>\n",
              "    <tr>\n",
              "      <th>2</th>\n",
              "      <td>Spectre</td>\n",
              "      <td>[Daniel Craig, Christoph Waltz, Léa Seydoux]</td>\n",
              "      <td>Sam Mendes</td>\n",
              "      <td>[spy, based on novel, secret agent]</td>\n",
              "      <td>[Action, Adventure, Crime]</td>\n",
              "    </tr>\n",
              "  </tbody>\n",
              "</table>\n",
              "</div>"
            ],
            "text/plain": [
              "                                      title              ...                                     genres\n",
              "0                                    Avatar              ...               [Action, Adventure, Fantasy]\n",
              "1  Pirates of the Caribbean: At World's End              ...               [Adventure, Fantasy, Action]\n",
              "2                                   Spectre              ...                 [Action, Adventure, Crime]\n",
              "\n",
              "[3 rows x 5 columns]"
            ]
          },
          "execution_count": 42,
          "metadata": {},
          "output_type": "execute_result"
        }
      ],
      "source": [
        "df_movielens[['title', 'actor', 'director', 'keywords', 'genres']].head(3)"
      ]
    },
    {
      "cell_type": "code",
      "execution_count": null,
      "metadata": {
        "id": "B9116JwIoNac"
      },
      "outputs": [],
      "source": [
        "def clean_director(x):\n",
        "    return x.lower().replace(' ','')"
      ]
    },
    {
      "cell_type": "code",
      "execution_count": null,
      "metadata": {
        "id": "iTWVRIajoNac"
      },
      "outputs": [],
      "source": [
        "def clean_top3(x):\n",
        "    new=[]\n",
        "    for a in x:\n",
        "        new.append(a.lower().replace(' ',''))\n",
        "    return new"
      ]
    },
    {
      "cell_type": "code",
      "execution_count": null,
      "metadata": {
        "id": "-v_sPs1hoNac"
      },
      "outputs": [],
      "source": [
        "df_movielens['director']=df_movielens['director'].apply(lambda x: clean_director(x))"
      ]
    },
    {
      "cell_type": "code",
      "execution_count": null,
      "metadata": {
        "id": "9kfA17GnoNad"
      },
      "outputs": [],
      "source": [
        "df_movielens['actor']=df_movielens['actor'].apply(lambda x:clean_top3(x))"
      ]
    },
    {
      "cell_type": "code",
      "execution_count": null,
      "metadata": {
        "id": "Jt86TfKroNad"
      },
      "outputs": [],
      "source": [
        "df_movielens['keywords']=df_movielens['keywords'].apply(lambda x:clean_top3(x))"
      ]
    },
    {
      "cell_type": "code",
      "execution_count": null,
      "metadata": {
        "id": "ZYVB8sdgoNad"
      },
      "outputs": [],
      "source": [
        "df_movielens['genres']=df_movielens['genres'].apply(lambda x:clean_top3(x))"
      ]
    },
    {
      "cell_type": "code",
      "execution_count": null,
      "metadata": {
        "id": "5mymUllDoNad",
        "outputId": "dd3ab738-565c-42fa-dc09-e095e16d1283"
      },
      "outputs": [
        {
          "data": {
            "text/html": [
              "<div>\n",
              "<style scoped>\n",
              "    .dataframe tbody tr th:only-of-type {\n",
              "        vertical-align: middle;\n",
              "    }\n",
              "\n",
              "    .dataframe tbody tr th {\n",
              "        vertical-align: top;\n",
              "    }\n",
              "\n",
              "    .dataframe thead th {\n",
              "        text-align: right;\n",
              "    }\n",
              "</style>\n",
              "<table border=\"1\" class=\"dataframe\">\n",
              "  <thead>\n",
              "    <tr style=\"text-align: right;\">\n",
              "      <th></th>\n",
              "      <th>title</th>\n",
              "      <th>actor</th>\n",
              "      <th>director</th>\n",
              "      <th>keywords</th>\n",
              "      <th>genres</th>\n",
              "    </tr>\n",
              "  </thead>\n",
              "  <tbody>\n",
              "    <tr>\n",
              "      <th>0</th>\n",
              "      <td>Avatar</td>\n",
              "      <td>[samworthington, zoesaldana, sigourneyweaver]</td>\n",
              "      <td>jamescameron</td>\n",
              "      <td>[cultureclash, future, spacewar]</td>\n",
              "      <td>[action, adventure, fantasy]</td>\n",
              "    </tr>\n",
              "    <tr>\n",
              "      <th>1</th>\n",
              "      <td>Pirates of the Caribbean: At World's End</td>\n",
              "      <td>[johnnydepp, orlandobloom, keiraknightley]</td>\n",
              "      <td>goreverbinski</td>\n",
              "      <td>[ocean, drugabuse, exoticisland]</td>\n",
              "      <td>[adventure, fantasy, action]</td>\n",
              "    </tr>\n",
              "    <tr>\n",
              "      <th>2</th>\n",
              "      <td>Spectre</td>\n",
              "      <td>[danielcraig, christophwaltz, léaseydoux]</td>\n",
              "      <td>sammendes</td>\n",
              "      <td>[spy, basedonnovel, secretagent]</td>\n",
              "      <td>[action, adventure, crime]</td>\n",
              "    </tr>\n",
              "  </tbody>\n",
              "</table>\n",
              "</div>"
            ],
            "text/plain": [
              "                                      title              ...                                     genres\n",
              "0                                    Avatar              ...               [action, adventure, fantasy]\n",
              "1  Pirates of the Caribbean: At World's End              ...               [adventure, fantasy, action]\n",
              "2                                   Spectre              ...                 [action, adventure, crime]\n",
              "\n",
              "[3 rows x 5 columns]"
            ]
          },
          "execution_count": 49,
          "metadata": {},
          "output_type": "execute_result"
        }
      ],
      "source": [
        "df_movielens[['title', 'actor', 'director', 'keywords', 'genres']].head(3)"
      ]
    },
    {
      "cell_type": "code",
      "execution_count": null,
      "metadata": {
        "id": "PbTFVA-ioNae"
      },
      "outputs": [],
      "source": [
        "def create_soup(x):\n",
        "    return ' '.join(x['keywords']) + ' ' + ' '.join(x['actor']) + ' ' + x['director'] + ' ' + ' '.join(x['genres'])"
      ]
    },
    {
      "cell_type": "code",
      "execution_count": null,
      "metadata": {
        "id": "xFkMBFreoNae"
      },
      "outputs": [],
      "source": [
        "df_movielens['soup'] = df_movielens.apply(create_soup, axis=1)"
      ]
    },
    {
      "cell_type": "markdown",
      "metadata": {
        "id": "QV8FUWV2oNae"
      },
      "source": [
        "#### Constructing TF-IDF Matrix"
      ]
    },
    {
      "cell_type": "code",
      "execution_count": null,
      "metadata": {
        "id": "T5TAhJzxoNaf"
      },
      "outputs": [],
      "source": [
        "cv = CountVectorizer(stop_words='english')\n",
        "cv_matrix = cv.fit_transform(df_movielens['soup'])"
      ]
    },
    {
      "cell_type": "markdown",
      "metadata": {
        "id": "9tKakZoDoNaf"
      },
      "source": [
        "#### Computing Similarity Score"
      ]
    },
    {
      "cell_type": "code",
      "execution_count": null,
      "metadata": {
        "id": "pdDGOZiLoNaf"
      },
      "outputs": [],
      "source": [
        "cosine_sim2 = cosine_similarity(cv_matrix, cv_matrix)"
      ]
    },
    {
      "cell_type": "markdown",
      "metadata": {
        "id": "LM6LqcIaoNaf"
      },
      "source": [
        "#### Applying Recommendation Function"
      ]
    },
    {
      "cell_type": "code",
      "execution_count": null,
      "metadata": {
        "id": "yiNWdcLSoNag",
        "outputId": "2a6c530e-3d75-49fc-b61c-81a1b2387cda"
      },
      "outputs": [
        {
          "data": {
            "text/plain": [
              "65               The Dark Knight\n",
              "119                Batman Begins\n",
              "4638    Amidst the Devil's Wings\n",
              "1196                The Prestige\n",
              "3073           Romeo Is Bleeding\n",
              "3326              Black November\n",
              "1503                      Takers\n",
              "1986                      Faster\n",
              "303                     Catwoman\n",
              "747               Gangster Squad\n",
              "dtype: object"
            ]
          },
          "execution_count": 54,
          "metadata": {},
          "output_type": "execute_result"
        }
      ],
      "source": [
        "content_recommendations('The Dark Knight Rises', cosine_sim2)"
      ]
    },
    {
      "cell_type": "code",
      "execution_count": null,
      "metadata": {
        "id": "OPhvhCYKoNag",
        "outputId": "e34cf2d6-8c4b-491e-81d2-bb62de5b4abe"
      },
      "outputs": [
        {
          "data": {
            "text/plain": [
              "867      The Godfather: Part III\n",
              "2731      The Godfather: Part II\n",
              "2649           The Son of No One\n",
              "1525              Apocalypse Now\n",
              "4638    Amidst the Devil's Wings\n",
              "1018             The Cotton Club\n",
              "1170     The Talented Mr. Ripley\n",
              "1209               The Rainmaker\n",
              "1394               Donnie Brasco\n",
              "1850                    Scarface\n",
              "dtype: object"
            ]
          },
          "execution_count": 55,
          "metadata": {},
          "output_type": "execute_result"
        }
      ],
      "source": [
        "content_recommendations('The Godfather', cosine_sim2)"
      ]
    },
    {
      "cell_type": "markdown",
      "metadata": {
        "id": "Buo9XffkoNag"
      },
      "source": [
        "## Collaborative Recommender"
      ]
    },
    {
      "cell_type": "code",
      "execution_count": null,
      "metadata": {
        "id": "DRNdM6AfoNag"
      },
      "outputs": [],
      "source": [
        "from surprise import SVD, Reader, Dataset\n",
        "from surprise.model_selection import cross_validate"
      ]
    },
    {
      "cell_type": "code",
      "execution_count": null,
      "metadata": {
        "id": "UBeTaY6koNag",
        "outputId": "18e5e36c-3491-4456-f022-aa29e70d2ec2"
      },
      "outputs": [
        {
          "data": {
            "text/html": [
              "<div>\n",
              "<style scoped>\n",
              "    .dataframe tbody tr th:only-of-type {\n",
              "        vertical-align: middle;\n",
              "    }\n",
              "\n",
              "    .dataframe tbody tr th {\n",
              "        vertical-align: top;\n",
              "    }\n",
              "\n",
              "    .dataframe thead th {\n",
              "        text-align: right;\n",
              "    }\n",
              "</style>\n",
              "<table border=\"1\" class=\"dataframe\">\n",
              "  <thead>\n",
              "    <tr style=\"text-align: right;\">\n",
              "      <th></th>\n",
              "      <th>userId</th>\n",
              "      <th>movieId</th>\n",
              "      <th>rating</th>\n",
              "      <th>timestamp</th>\n",
              "    </tr>\n",
              "  </thead>\n",
              "  <tbody>\n",
              "    <tr>\n",
              "      <th>0</th>\n",
              "      <td>1</td>\n",
              "      <td>31</td>\n",
              "      <td>2.5</td>\n",
              "      <td>1260759144</td>\n",
              "    </tr>\n",
              "    <tr>\n",
              "      <th>1</th>\n",
              "      <td>1</td>\n",
              "      <td>1029</td>\n",
              "      <td>3.0</td>\n",
              "      <td>1260759179</td>\n",
              "    </tr>\n",
              "    <tr>\n",
              "      <th>2</th>\n",
              "      <td>1</td>\n",
              "      <td>1061</td>\n",
              "      <td>3.0</td>\n",
              "      <td>1260759182</td>\n",
              "    </tr>\n",
              "    <tr>\n",
              "      <th>3</th>\n",
              "      <td>1</td>\n",
              "      <td>1129</td>\n",
              "      <td>2.0</td>\n",
              "      <td>1260759185</td>\n",
              "    </tr>\n",
              "    <tr>\n",
              "      <th>4</th>\n",
              "      <td>1</td>\n",
              "      <td>1172</td>\n",
              "      <td>4.0</td>\n",
              "      <td>1260759205</td>\n",
              "    </tr>\n",
              "  </tbody>\n",
              "</table>\n",
              "</div>"
            ],
            "text/plain": [
              "   userId  movieId  rating   timestamp\n",
              "0       1       31     2.5  1260759144\n",
              "1       1     1029     3.0  1260759179\n",
              "2       1     1061     3.0  1260759182\n",
              "3       1     1129     2.0  1260759185\n",
              "4       1     1172     4.0  1260759205"
            ]
          },
          "execution_count": 57,
          "metadata": {},
          "output_type": "execute_result"
        }
      ],
      "source": [
        "df_rating= pd.read_csv('../input/the-movies-dataset/ratings_small.csv')\n",
        "df_rating.head()"
      ]
    },
    {
      "cell_type": "markdown",
      "metadata": {
        "id": "k4S4t-1LoNah"
      },
      "source": [
        "### SVD: Matrix Factorization Based Algorithm"
      ]
    },
    {
      "cell_type": "code",
      "execution_count": null,
      "metadata": {
        "id": "hRgZme4FoNah"
      },
      "outputs": [],
      "source": [
        "# We will use the famous SVD algorithm.\n",
        "svd = SVD()"
      ]
    },
    {
      "cell_type": "code",
      "execution_count": null,
      "metadata": {
        "id": "zoMPJ2QDoNah"
      },
      "outputs": [],
      "source": [
        "reader = Reader()"
      ]
    },
    {
      "cell_type": "code",
      "execution_count": null,
      "metadata": {
        "id": "WG2f4zznoNah"
      },
      "outputs": [],
      "source": [
        "# Load the ratings_small dataset (download it if needed),\n",
        "data = Dataset.load_from_df(df_rating[['userId', 'movieId', 'rating']], reader)"
      ]
    },
    {
      "cell_type": "code",
      "execution_count": null,
      "metadata": {
        "id": "a6_PVLhsoNah",
        "outputId": "4f7ffc39-e95b-466a-d44d-301e4a67c62d"
      },
      "outputs": [
        {
          "name": "stdout",
          "output_type": "stream",
          "text": [
            "Evaluating RMSE, MAE of algorithm SVD on 5 split(s).\n",
            "\n",
            "                  Fold 1  Fold 2  Fold 3  Fold 4  Fold 5  Mean    Std     \n",
            "RMSE (testset)    0.9014  0.8950  0.8984  0.8947  0.8928  0.8964  0.0030  \n",
            "MAE (testset)     0.6946  0.6888  0.6911  0.6879  0.6886  0.6902  0.0024  \n",
            "Fit time          9.06    9.19    9.16    9.11    9.09    9.12    0.05    \n",
            "Test time         0.26    0.27    0.26    0.38    0.26    0.29    0.05    \n"
          ]
        },
        {
          "data": {
            "text/plain": [
              "{'test_rmse': array([0.90137142, 0.89499551, 0.89836255, 0.89471757, 0.89279701]),\n",
              " 'test_mae': array([0.6945616 , 0.68884097, 0.69108399, 0.68788139, 0.6885702 ]),\n",
              " 'fit_time': (9.055752515792847,\n",
              "  9.19143033027649,\n",
              "  9.164739608764648,\n",
              "  9.114232540130615,\n",
              "  9.087774753570557),\n",
              " 'test_time': (0.2631540298461914,\n",
              "  0.2651093006134033,\n",
              "  0.26421117782592773,\n",
              "  0.3769676685333252,\n",
              "  0.2597062587738037)}"
            ]
          },
          "execution_count": 61,
          "metadata": {},
          "output_type": "execute_result"
        }
      ],
      "source": [
        "# Run 5-fold cross-validation and print the results\n",
        "cross_validate(svd, data, measures=['RMSE', 'MAE'], cv=5, verbose=True)"
      ]
    },
    {
      "cell_type": "code",
      "execution_count": null,
      "metadata": {
        "id": "VeMpMXfLoNah"
      },
      "outputs": [],
      "source": [
        "#sample full trainset\n",
        "trainset = data.build_full_trainset()"
      ]
    },
    {
      "cell_type": "code",
      "execution_count": null,
      "metadata": {
        "id": "hrKUmCDnoNai",
        "outputId": "d2c10ce6-66b5-4f1c-bf1a-b82b04cd4cb2"
      },
      "outputs": [
        {
          "data": {
            "text/plain": [
              "<surprise.prediction_algorithms.matrix_factorization.SVD at 0x7fe962fc63c8>"
            ]
          },
          "execution_count": 63,
          "metadata": {},
          "output_type": "execute_result"
        }
      ],
      "source": [
        "# Train the algorithm on the trainset\n",
        "svd.fit(trainset)"
      ]
    },
    {
      "cell_type": "code",
      "execution_count": null,
      "metadata": {
        "id": "tzUT_aU8oNai",
        "outputId": "98ab396b-bba6-4c7d-92d9-455e6ff9f050"
      },
      "outputs": [
        {
          "data": {
            "text/html": [
              "<div>\n",
              "<style scoped>\n",
              "    .dataframe tbody tr th:only-of-type {\n",
              "        vertical-align: middle;\n",
              "    }\n",
              "\n",
              "    .dataframe tbody tr th {\n",
              "        vertical-align: top;\n",
              "    }\n",
              "\n",
              "    .dataframe thead th {\n",
              "        text-align: right;\n",
              "    }\n",
              "</style>\n",
              "<table border=\"1\" class=\"dataframe\">\n",
              "  <thead>\n",
              "    <tr style=\"text-align: right;\">\n",
              "      <th></th>\n",
              "      <th>userId</th>\n",
              "      <th>movieId</th>\n",
              "      <th>rating</th>\n",
              "      <th>timestamp</th>\n",
              "    </tr>\n",
              "  </thead>\n",
              "  <tbody>\n",
              "    <tr>\n",
              "      <th>0</th>\n",
              "      <td>1</td>\n",
              "      <td>31</td>\n",
              "      <td>2.5</td>\n",
              "      <td>1260759144</td>\n",
              "    </tr>\n",
              "    <tr>\n",
              "      <th>1</th>\n",
              "      <td>1</td>\n",
              "      <td>1029</td>\n",
              "      <td>3.0</td>\n",
              "      <td>1260759179</td>\n",
              "    </tr>\n",
              "    <tr>\n",
              "      <th>2</th>\n",
              "      <td>1</td>\n",
              "      <td>1061</td>\n",
              "      <td>3.0</td>\n",
              "      <td>1260759182</td>\n",
              "    </tr>\n",
              "    <tr>\n",
              "      <th>3</th>\n",
              "      <td>1</td>\n",
              "      <td>1129</td>\n",
              "      <td>2.0</td>\n",
              "      <td>1260759185</td>\n",
              "    </tr>\n",
              "    <tr>\n",
              "      <th>4</th>\n",
              "      <td>1</td>\n",
              "      <td>1172</td>\n",
              "      <td>4.0</td>\n",
              "      <td>1260759205</td>\n",
              "    </tr>\n",
              "    <tr>\n",
              "      <th>5</th>\n",
              "      <td>1</td>\n",
              "      <td>1263</td>\n",
              "      <td>2.0</td>\n",
              "      <td>1260759151</td>\n",
              "    </tr>\n",
              "    <tr>\n",
              "      <th>6</th>\n",
              "      <td>1</td>\n",
              "      <td>1287</td>\n",
              "      <td>2.0</td>\n",
              "      <td>1260759187</td>\n",
              "    </tr>\n",
              "    <tr>\n",
              "      <th>7</th>\n",
              "      <td>1</td>\n",
              "      <td>1293</td>\n",
              "      <td>2.0</td>\n",
              "      <td>1260759148</td>\n",
              "    </tr>\n",
              "    <tr>\n",
              "      <th>8</th>\n",
              "      <td>1</td>\n",
              "      <td>1339</td>\n",
              "      <td>3.5</td>\n",
              "      <td>1260759125</td>\n",
              "    </tr>\n",
              "    <tr>\n",
              "      <th>9</th>\n",
              "      <td>1</td>\n",
              "      <td>1343</td>\n",
              "      <td>2.0</td>\n",
              "      <td>1260759131</td>\n",
              "    </tr>\n",
              "    <tr>\n",
              "      <th>10</th>\n",
              "      <td>1</td>\n",
              "      <td>1371</td>\n",
              "      <td>2.5</td>\n",
              "      <td>1260759135</td>\n",
              "    </tr>\n",
              "    <tr>\n",
              "      <th>11</th>\n",
              "      <td>1</td>\n",
              "      <td>1405</td>\n",
              "      <td>1.0</td>\n",
              "      <td>1260759203</td>\n",
              "    </tr>\n",
              "    <tr>\n",
              "      <th>12</th>\n",
              "      <td>1</td>\n",
              "      <td>1953</td>\n",
              "      <td>4.0</td>\n",
              "      <td>1260759191</td>\n",
              "    </tr>\n",
              "    <tr>\n",
              "      <th>13</th>\n",
              "      <td>1</td>\n",
              "      <td>2105</td>\n",
              "      <td>4.0</td>\n",
              "      <td>1260759139</td>\n",
              "    </tr>\n",
              "    <tr>\n",
              "      <th>14</th>\n",
              "      <td>1</td>\n",
              "      <td>2150</td>\n",
              "      <td>3.0</td>\n",
              "      <td>1260759194</td>\n",
              "    </tr>\n",
              "    <tr>\n",
              "      <th>15</th>\n",
              "      <td>1</td>\n",
              "      <td>2193</td>\n",
              "      <td>2.0</td>\n",
              "      <td>1260759198</td>\n",
              "    </tr>\n",
              "    <tr>\n",
              "      <th>16</th>\n",
              "      <td>1</td>\n",
              "      <td>2294</td>\n",
              "      <td>2.0</td>\n",
              "      <td>1260759108</td>\n",
              "    </tr>\n",
              "    <tr>\n",
              "      <th>17</th>\n",
              "      <td>1</td>\n",
              "      <td>2455</td>\n",
              "      <td>2.5</td>\n",
              "      <td>1260759113</td>\n",
              "    </tr>\n",
              "    <tr>\n",
              "      <th>18</th>\n",
              "      <td>1</td>\n",
              "      <td>2968</td>\n",
              "      <td>1.0</td>\n",
              "      <td>1260759200</td>\n",
              "    </tr>\n",
              "    <tr>\n",
              "      <th>19</th>\n",
              "      <td>1</td>\n",
              "      <td>3671</td>\n",
              "      <td>3.0</td>\n",
              "      <td>1260759117</td>\n",
              "    </tr>\n",
              "  </tbody>\n",
              "</table>\n",
              "</div>"
            ],
            "text/plain": [
              "    userId  movieId  rating   timestamp\n",
              "0        1       31     2.5  1260759144\n",
              "1        1     1029     3.0  1260759179\n",
              "2        1     1061     3.0  1260759182\n",
              "3        1     1129     2.0  1260759185\n",
              "4        1     1172     4.0  1260759205\n",
              "5        1     1263     2.0  1260759151\n",
              "6        1     1287     2.0  1260759187\n",
              "7        1     1293     2.0  1260759148\n",
              "8        1     1339     3.5  1260759125\n",
              "9        1     1343     2.0  1260759131\n",
              "10       1     1371     2.5  1260759135\n",
              "11       1     1405     1.0  1260759203\n",
              "12       1     1953     4.0  1260759191\n",
              "13       1     2105     4.0  1260759139\n",
              "14       1     2150     3.0  1260759194\n",
              "15       1     2193     2.0  1260759198\n",
              "16       1     2294     2.0  1260759108\n",
              "17       1     2455     2.5  1260759113\n",
              "18       1     2968     1.0  1260759200\n",
              "19       1     3671     3.0  1260759117"
            ]
          },
          "execution_count": 64,
          "metadata": {},
          "output_type": "execute_result"
        }
      ],
      "source": [
        "df_rating[df_rating['userId'] == 1]"
      ]
    },
    {
      "cell_type": "code",
      "execution_count": null,
      "metadata": {
        "id": "itV6okWToNai",
        "outputId": "5ef9123e-3589-45ea-ef6a-895ed07353a3"
      },
      "outputs": [
        {
          "data": {
            "text/plain": [
              "Prediction(uid=1, iid=302, r_ui=None, est=2.5230541821358132, details={'was_impossible': False})"
            ]
          },
          "execution_count": 65,
          "metadata": {},
          "output_type": "execute_result"
        }
      ],
      "source": [
        "# predict ratings for the testset\n",
        "svd.predict(uid=1, iid=302, r_ui=None)"
      ]
    },
    {
      "cell_type": "code",
      "execution_count": null,
      "metadata": {
        "id": "ACvNiO6hoNai",
        "outputId": "29a194f9-01b0-4d3c-d22b-957e476f2fed"
      },
      "outputs": [
        {
          "data": {
            "text/plain": [
              "2.5230541821358132"
            ]
          },
          "execution_count": 66,
          "metadata": {},
          "output_type": "execute_result"
        }
      ],
      "source": [
        "# directly grab the estimated ratings for the testset\n",
        "svd.predict(uid=1, iid=302, r_ui=None).est"
      ]
    }
  ],
  "metadata": {
    "kernelspec": {
      "display_name": "Python 3",
      "language": "python",
      "name": "python3"
    },
    "language_info": {
      "codemirror_mode": {
        "name": "ipython",
        "version": 3
      },
      "file_extension": ".py",
      "mimetype": "text/x-python",
      "name": "python",
      "nbconvert_exporter": "python",
      "pygments_lexer": "ipython3",
      "version": "3.6.4"
    },
    "colab": {
      "provenance": []
    }
  },
  "nbformat": 4,
  "nbformat_minor": 0
}
